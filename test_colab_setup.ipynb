{
 "cells": [
  {
   "cell_type": "markdown",
   "id": "47aa7569",
   "metadata": {},
   "source": [
    "# FBPINNs Colab Test Notebook\n",
    "\n",
    "This notebook tests the FBPINNs installation and runs a simple poroelasticity example to verify everything works on Google Colab."
   ]
  },
  {
   "cell_type": "markdown",
   "id": "93d07307",
   "metadata": {},
   "source": [
    "## Step 1: Check Installation"
   ]
  },
  {
   "cell_type": "code",
   "execution_count": null,
   "id": "4739e87c",
   "metadata": {},
   "outputs": [],
   "source": [
    "# Test basic imports\n",
    "try:\n",
    "    import jax\n",
    "    import jax.numpy as jnp\n",
    "    import optax\n",
    "    import fbpinns\n",
    "    print(\"SUCCESS: All core packages imported successfully\")\n",
    "except ImportError as e:\n",
    "    print(f\"ERROR: Import failed: {e}\")"
   ]
  },
  {
   "cell_type": "code",
   "execution_count": null,
   "id": "d6b11133",
   "metadata": {},
   "outputs": [],
   "source": [
    "# Check GPU availability\n",
    "import jax\n",
    "devices = jax.devices()\n",
    "print(f\"JAX devices: {devices}\")\n",
    "\n",
    "gpu_devices = [d for d in devices if 'gpu' in str(d).lower() or 'cuda' in str(d).lower()]\n",
    "if gpu_devices:\n",
    "    print(f\"GPU available: {gpu_devices}\")\n",
    "else:\n",
    "    print(\"No GPU detected (CPU-only mode)\")"
   ]
  },
  {
   "cell_type": "markdown",
   "id": "11f22205",
   "metadata": {},
   "source": [
    "## Step 2: Test FBPINNs Core Components"
   ]
  },
  {
   "cell_type": "code",
   "execution_count": null,
   "id": "1415acfe",
   "metadata": {},
   "outputs": [],
   "source": [
    "# Test FBPINNs core imports\n",
    "import numpy as np\n",
    "from fbpinns.domains import RectangularDomainND\n",
    "from fbpinns.problems import HarmonicOscillator1D\n",
    "from fbpinns.decompositions import RectangularDecompositionND\n",
    "from fbpinns.networks import FCN\n",
    "from fbpinns.constants import Constants\n",
    "from fbpinns.trainers import FBPINNTrainer\n",
    "\n",
    "print(\"SUCCESS: All FBPINNs modules imported successfully\")"
   ]
  },
  {
   "cell_type": "code",
   "execution_count": null,
   "id": "d2e18c7d",
   "metadata": {},
   "outputs": [],
   "source": [
    "# Test creating basic components\n",
    "import jax.random as random\n",
    "\n",
    "# Create domain\n",
    "domain = RectangularDomainND(xmin=np.array([0.0]), xmax=np.array([1.0]))\n",
    "print(\"SUCCESS: Domain created\")\n",
    "\n",
    "# Create network\n",
    "key = random.PRNGKey(42)\n",
    "network = FCN(key=key, layer_sizes=[1, 10, 1])\n",
    "print(\"SUCCESS: Network created\")\n",
    "\n",
    "# Create constants\n",
    "c = Constants()\n",
    "print(\"SUCCESS: Constants created\")"
   ]
  },
  {
   "cell_type": "markdown",
   "id": "0cdfadac",
   "metadata": {},
   "source": [
    "## Step 3: Test Poroelasticity Modules"
   ]
  },
  {
   "cell_type": "code",
   "execution_count": null,
   "id": "28752299",
   "metadata": {},
   "outputs": [],
   "source": [
    "# Add poroelasticity to path and test imports\n",
    "import sys\n",
    "from pathlib import Path\n",
    "\n",
    "poro_dir = Path.cwd() / \"poroelasticity\"\n",
    "if poro_dir.exists() and str(poro_dir) not in sys.path:\n",
    "    sys.path.insert(0, str(poro_dir))\n",
    "    print(f\"Added {poro_dir} to Python path\")\n",
    "\n",
    "try:\n",
    "    from trainers.biot_trainer_2d import BiotCoupledTrainer, BiotCoupled2D\n",
    "    print(\"SUCCESS: Physics trainer imported\")\n",
    "except ImportError as e:\n",
    "    print(f\"ERROR: Physics trainer import failed: {e}\")\n",
    "\n",
    "try:\n",
    "    from trainers.biot_trainer_2d_data import BiotCoupledDataTrainer\n",
    "    print(\"SUCCESS: Data trainer imported\")\n",
    "except ImportError as e:\n",
    "    print(f\"WARNING: Data trainer import failed: {e} (optional)\")"
   ]
  },
  {
   "cell_type": "markdown",
   "id": "bf819676",
   "metadata": {},
   "source": [
    "## Step 4: Run Quick Validation"
   ]
  },
  {
   "cell_type": "code",
   "execution_count": null,
   "id": "2f3100b7",
   "metadata": {},
   "outputs": [],
   "source": [
    "# Run the quick validation script\n",
    "%cd poroelasticity\n",
    "!python run_all_validations.py --quick"
   ]
  },
  {
   "cell_type": "markdown",
   "id": "8ae38a11",
   "metadata": {},
   "source": [
    "## Step 5: Quick Physics Test"
   ]
  },
  {
   "cell_type": "code",
   "execution_count": null,
   "id": "f62dc16e",
   "metadata": {},
   "outputs": [],
   "source": [
    "# Run a quick physics test\n",
    "!python test/test_biot_2d.py"
   ]
  },
  {
   "cell_type": "markdown",
   "id": "4a4df478",
   "metadata": {},
   "source": [
    "## Summary\n",
    "\n",
    "If all cells above run successfully, your FBPINNs installation is working correctly on Colab!\n",
    "\n",
    "Next steps:\n",
    "1. Open the main visualization notebook: `poroelasticity/notebooks/Biot_Visualization_Hub.ipynb`\n",
    "2. Run full training (remove `--quick` flags)\n",
    "3. Experiment with your own parameters"
   ]
  }
 ],
 "metadata": {
  "language_info": {
   "name": "python"
  }
 },
 "nbformat": 4,
 "nbformat_minor": 5
}
